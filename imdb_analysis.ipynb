{
 "cells": [
  {
   "cell_type": "markdown",
   "metadata": {},
   "source": [
    "# IMDb Prediction Analysis\n",
    "## Post-Neural-Network Training...\n",
    "Now that the multi-layer preceptron deep learning model has finished training and producing results from 3 separate training sets, I will conduct some analysis to evaluate how well the model performed."
   ]
  },
  {
   "cell_type": "code",
   "execution_count": 1,
   "metadata": {},
   "outputs": [],
   "source": [
    "import os\n",
    "import csv\n",
    "import pickle as pkl\n",
    "import pandas as pd\n",
    "import numpy as np\n",
    "import matplotlib.pyplot as plt"
   ]
  },
  {
   "cell_type": "code",
   "execution_count": 2,
   "metadata": {},
   "outputs": [],
   "source": [
    "# Define directory structure\n",
    "parent_path = '/Users/cheng-haotai/Documents/Projects_Data/IMDb_Predictor/'\n",
    "prediction_folder = 'prediction_results/'\n",
    "prediction_path = parent_path + prediction_folder"
   ]
  },
  {
   "cell_type": "markdown",
   "metadata": {},
   "source": [
    "## Importing Prediction Results..."
   ]
  },
  {
   "cell_type": "code",
   "execution_count": 3,
   "metadata": {},
   "outputs": [
    {
     "name": "stdout",
     "output_type": "stream",
     "text": [
      "Names of movie prediction files:\n",
      "/Users/cheng-haotai/Documents/Projects_Data/IMDb_Predictor/prediction_results/movie_prediction_2.csv\n",
      "/Users/cheng-haotai/Documents/Projects_Data/IMDb_Predictor/prediction_results/movie_prediction_3.csv\n",
      "/Users/cheng-haotai/Documents/Projects_Data/IMDb_Predictor/prediction_results/movie_prediction_1.csv\n"
     ]
    }
   ],
   "source": [
    "# Get list of original prediction results\n",
    "pred_ext = '.csv'\n",
    "print 'Names of movie prediction files:'\n",
    "pred_files = []\n",
    "for filename in os.listdir(prediction_path):\n",
    "    if filename.endswith(pred_ext):\n",
    "        pred_files.append(prediction_path + filename)\n",
    "        print prediction_path + filename"
   ]
  },
  {
   "cell_type": "code",
   "execution_count": 4,
   "metadata": {},
   "outputs": [
    {
     "name": "stdout",
     "output_type": "stream",
     "text": [
      "Folder for storing formatted prediction results already exist!\n"
     ]
    }
   ],
   "source": [
    "# Make new folder for formatted prediction results\n",
    "format_folder = prediction_path + 'formatted_predictions/'\n",
    "if not os.path.exists(format_folder):\n",
    "    print 'Making folder for storing formatted prediction results...'\n",
    "    os.mkdir(format_folder)\n",
    "else:\n",
    "    print 'Folder for storing formatted prediction results already exist!'"
   ]
  },
  {
   "cell_type": "code",
   "execution_count": 5,
   "metadata": {},
   "outputs": [
    {
     "name": "stdout",
     "output_type": "stream",
     "text": [
      "Name of formatted prediction files:\n",
      "/Users/cheng-haotai/Documents/Projects_Data/IMDb_Predictor/prediction_results/formatted_predictions/formatted_1.csv\n",
      "/Users/cheng-haotai/Documents/Projects_Data/IMDb_Predictor/prediction_results/formatted_predictions/formatted_2.csv\n",
      "/Users/cheng-haotai/Documents/Projects_Data/IMDb_Predictor/prediction_results/formatted_predictions/formatted_3.csv\n"
     ]
    }
   ],
   "source": [
    "# Get list of cleaned prediction results\n",
    "formatted_files = []\n",
    "format_name_template = 'formatted_'\n",
    "print 'Name of formatted prediction files:'\n",
    "for idx, name in enumerate(pred_files):\n",
    "    name = format_folder + format_name_template + str(idx + 1) + pred_ext\n",
    "    formatted_files.append(name)\n",
    "    print name"
   ]
  },
  {
   "cell_type": "code",
   "execution_count": 6,
   "metadata": {},
   "outputs": [
    {
     "name": "stdout",
     "output_type": "stream",
     "text": [
      "Formatted prediction file for model 1 already exists\n",
      "Formatted prediction file for model 2 already exists\n",
      "Formatted prediction file for model 3 already exists\n"
     ]
    }
   ],
   "source": [
    "# Clean up prediction files (2nd column values have list of lists brackets)\n",
    "for idx, name in enumerate(pred_files):\n",
    "    new_data = []\n",
    "    with open(name, 'r') as csvread:\n",
    "        csv_read = csv.reader(csvread)\n",
    "        for row in csv_read:\n",
    "            row[2] = row[2].replace('[', '')\n",
    "            row[2] = row[2].replace(']', '')\n",
    "            new_data.append(row)\n",
    "    if not os.path.exists(formatted_files[idx]):\n",
    "        print 'Generating formatted prediction file for model', (idx + 1)\n",
    "        with open(formatted_files[idx], 'w') as csvwrite:\n",
    "            csv_write = csv.writer(csvwrite)\n",
    "            csv_write.writerows(new_data)\n",
    "    else:\n",
    "        print 'Formatted prediction file for model %s already exists' % (idx + 1)"
   ]
  },
  {
   "cell_type": "markdown",
   "metadata": {},
   "source": [
    "## Importing into Pandas...\n",
    "The CSV files containing movie predictions of the test set (using 3 separate training sets to train the regression model). Now, I will be constructing pandas dataframes of the three test results."
   ]
  },
  {
   "cell_type": "code",
   "execution_count": 7,
   "metadata": {},
   "outputs": [],
   "source": [
    "# Open test indexes to retrieve movie metadata for relevant movies\n",
    "test_idx = prediction_path + 'test_index.pickle'\n",
    "with open(test_idx, 'rb') as pickle_open:\n",
    "    test_info = pkl.load(pickle_open)"
   ]
  },
  {
   "cell_type": "code",
   "execution_count": 8,
   "metadata": {},
   "outputs": [],
   "source": [
    "# Load metadata for the movies in the test set\n",
    "metadata_path = parent_path + 'movie_metadata.csv'\n",
    "movie_df = pd.read_csv(metadata_path)\n",
    "movie_df.dropna(how='any', inplace=True)"
   ]
  },
  {
   "cell_type": "code",
   "execution_count": 9,
   "metadata": {},
   "outputs": [],
   "source": [
    "meta_df = movie_df.iloc[test_info]\n",
    "meta_df.reset_index(inplace=True)"
   ]
  },
  {
   "cell_type": "code",
   "execution_count": 10,
   "metadata": {},
   "outputs": [
    {
     "name": "stdout",
     "output_type": "stream",
     "text": [
      "Shape of metadata dataframe: (564, 29)\n"
     ]
    }
   ],
   "source": [
    "# Info about metadata dataframe\n",
    "print 'Shape of metadata dataframe:', meta_df.shape"
   ]
  },
  {
   "cell_type": "code",
   "execution_count": 11,
   "metadata": {},
   "outputs": [],
   "source": [
    "# For each prediction file, load the data into a pandas dataframe\n",
    "pred_df_list = []\n",
    "for name in formatted_files:\n",
    "    pred_df_list.append(pd.read_csv(name, index_col=0))"
   ]
  },
  {
   "cell_type": "code",
   "execution_count": 12,
   "metadata": {},
   "outputs": [],
   "source": [
    "# Create a single composite dataframe that captures the information of all three smaller dataframes\n",
    "master_df = pd.DataFrame()\n",
    "master_df['movie_title'] = meta_df.loc[:]['movie_title']\n",
    "master_df['original_index'] = meta_df.loc[:]['index']\n",
    "master_df['actual_score'] = meta_df.loc[:]['imdb_score']"
   ]
  },
  {
   "cell_type": "code",
   "execution_count": 13,
   "metadata": {},
   "outputs": [],
   "source": [
    "# Add in predicted scores for each regression model\n",
    "prediction_list = []\n",
    "for idx, df in enumerate(pred_df_list):\n",
    "    colname = 'prediction_%s' % (idx + 1)\n",
    "    prediction_list.append(colname)\n",
    "    master_df[colname] = df['Predicted_Score']"
   ]
  },
  {
   "cell_type": "code",
   "execution_count": 14,
   "metadata": {},
   "outputs": [],
   "source": [
    "# Compute the average of all three predictions\n",
    "master_df['average_score'] = master_df[prediction_list].iloc[:].mean(axis=1)"
   ]
  },
  {
   "cell_type": "code",
   "execution_count": 15,
   "metadata": {},
   "outputs": [],
   "source": [
    "# Compute the absolute errors of averaged scores from actual score\n",
    "master_df['percent_error'] = (master_df.actual_score - master_df.average_score)/master_df.actual_score"
   ]
  },
  {
   "cell_type": "markdown",
   "metadata": {},
   "source": [
    "## Visualization Step 1:\n",
    "Now that I have imported the predicted data into a pandas dataframe and also calculated some basic statistical figures, the next step is to visualize the distribution of averaged predicted scores and the actual scores. Further statistical analysis will follow."
   ]
  },
  {
   "cell_type": "code",
   "execution_count": 16,
   "metadata": {},
   "outputs": [
    {
     "data": {
      "text/plain": [
       "<matplotlib.figure.Figure at 0x10b931390>"
      ]
     },
     "metadata": {},
     "output_type": "display_data"
    },
    {
     "data": {
      "image/png": "[encoded data removed]",
      "text/plain": [
       "<matplotlib.figure.Figure at 0x105fca950>"
      ]
     },
     "metadata": {},
     "output_type": "display_data"
    }
   ],
   "source": [
    "# Visualize distribution of actual scores and averaged predicted scores using histograms\n",
    "plot_cols = ['actual_score', 'average_score']\n",
    "plt.clf();\n",
    "plt.figure;\n",
    "master_df[plot_cols].plot.hist(alpha=0.5, bins=50, figsize=(15, 9))\n",
    "plt.xticks(np.arange(0, 15, step = 1));\n",
    "plt.xlabel('IMDb Scores');\n",
    "plt.title('Histogram of Averaged Predicted Scores and Actual Scores');"
   ]
  },
  {
   "cell_type": "markdown",
   "metadata": {},
   "source": [
    "From a visual inspection of the two distributions, it seems that the averaged predicted IMDb scores have been shifted to the left from the actual scores. This can be confirmed by looking at the means and standard deviations of the two distributions."
   ]
  },
  {
   "cell_type": "code",
   "execution_count": 17,
   "metadata": {},
   "outputs": [
    {
     "name": "stdout",
     "output_type": "stream",
     "text": [
      "The mean of the actual IMDb scores is: 6.472695035460993\n",
      "The standard deviation of the actual IMDb scores is: 1.0580\n",
      "\n",
      "The mean of the actual IMDb scores is: 6.19816258749409\n",
      "The standard deviation of the actual IMDb scores is: 1.1391\n"
     ]
    }
   ],
   "source": [
    "# Find the averages and standard deviations of the two distributions\n",
    "actual_mean = master_df.actual_score.mean(axis=0)\n",
    "actual_std = master_df.actual_score.std(axis=0)\n",
    "print 'The mean of the actual IMDb scores is:', actual_mean\n",
    "print 'The standard deviation of the actual IMDb scores is: %.4f\\n' % actual_std\n",
    "\n",
    "predict_mean = master_df.average_score.mean(axis=0)\n",
    "predict_std = master_df.average_score.std(axis=0)\n",
    "print 'The mean of the actual IMDb scores is:', predict_mean\n",
    "print 'The standard deviation of the actual IMDb scores is: %.4f' % predict_std"
   ]
  },
  {
   "cell_type": "markdown",
   "metadata": {},
   "source": [
    "Now that we know the means and standard deviations of the two distributions, we can identify the outliers as any value lying 2 standard deviations away from the mean (95% confidence interval assuming a Gaussian distribution). These values can be excluded from the analysis."
   ]
  },
  {
   "cell_type": "markdown",
   "metadata": {},
   "source": [
    "Steps going forward:\n",
    "* Get Gaussian working\n",
    "* Use null hypothesis testing\n",
    "* Remove outliers\n",
    "* Redo null hypothesis testing\n",
    "* Speculate on potential causes for results\n",
    "\n",
    "Overachiving status:\n",
    "* Look at shape of trainining data distributions vs. test distribution (need to change script to add training indices into the 'prediction_results' folder)"
   ]
  },
  {
   "cell_type": "code",
   "execution_count": null,
   "metadata": {},
   "outputs": [],
   "source": []
  }
 ],
 "metadata": {
  "kernelspec": {
   "display_name": "Python 2",
   "language": "python",
   "name": "python2"
  },
  "language_info": {
   "codemirror_mode": {
    "name": "ipython",
    "version": 2
   },
   "file_extension": ".py",
   "mimetype": "text/x-python",
   "name": "python",
   "nbconvert_exporter": "python",
   "pygments_lexer": "ipython2",
   "version": "2.7.14"
  }
 },
 "nbformat": 4,
 "nbformat_minor": 2
}
