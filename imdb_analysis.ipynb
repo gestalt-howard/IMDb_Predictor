{
 "cells": [
  {
   "cell_type": "markdown",
   "metadata": {},
   "source": [
    "# IMDb Prediction Analysis\n",
    "## A Closer Look Into Neural Network's Predictions\n",
    "Now that the multi-layer preceptron deep learning model has finished training and producing results from 3 separate training sets, I will conduct some analysis to evaluate how well the model performed."
   ]
  },
  {
   "cell_type": "code",
   "execution_count": 1,
   "metadata": {},
   "outputs": [],
   "source": [
    "import os\n",
    "import csv\n",
    "import pickle as pkl\n",
    "import pandas as pd\n",
    "import numpy as np\n",
    "import matplotlib.pyplot as plt"
   ]
  },
  {
   "cell_type": "code",
   "execution_count": 2,
   "metadata": {},
   "outputs": [],
   "source": [
    "# Define directory structure\n",
    "parent_path = '/Users/cheng-haotai/Documents/Projects_Data/IMDb_Predictor/'\n",
    "prediction_folder = 'prediction_results/'\n",
    "prediction_path = parent_path + prediction_folder"
   ]
  },
  {
   "cell_type": "markdown",
   "metadata": {},
   "source": [
    "## Importing Prediction Results"
   ]
  },
  {
   "cell_type": "code",
   "execution_count": 3,
   "metadata": {},
   "outputs": [
    {
     "name": "stdout",
     "output_type": "stream",
     "text": [
      "Names of movie prediction files:\n",
      "/Users/cheng-haotai/Documents/Projects_Data/IMDb_Predictor/prediction_results/movie_prediction_2.csv\n",
      "/Users/cheng-haotai/Documents/Projects_Data/IMDb_Predictor/prediction_results/movie_prediction_3.csv\n",
      "/Users/cheng-haotai/Documents/Projects_Data/IMDb_Predictor/prediction_results/movie_prediction_1.csv\n"
     ]
    }
   ],
   "source": [
    "# Get list of original prediction results\n",
    "pred_ext = '.csv'\n",
    "print 'Names of movie prediction files:'\n",
    "pred_files = []\n",
    "for filename in os.listdir(prediction_path):\n",
    "    if filename.endswith(pred_ext):\n",
    "        pred_files.append(prediction_path + filename)\n",
    "        print prediction_path + filename"
   ]
  },
  {
   "cell_type": "code",
   "execution_count": 4,
   "metadata": {},
   "outputs": [
    {
     "name": "stdout",
     "output_type": "stream",
     "text": [
      "Folder for storing formatted prediction results already exist!\n"
     ]
    }
   ],
   "source": [
    "# Make new folder for formatted prediction results\n",
    "format_folder = prediction_path + 'formatted_predictions/'\n",
    "if not os.path.exists(format_folder):\n",
    "    print 'Making folder for storing formatted prediction results...'\n",
    "    os.mkdir(format_folder)\n",
    "else:\n",
    "    print 'Folder for storing formatted prediction results already exist!'"
   ]
  },
  {
   "cell_type": "code",
   "execution_count": 5,
   "metadata": {},
   "outputs": [
    {
     "name": "stdout",
     "output_type": "stream",
     "text": [
      "Name of formatted prediction files:\n",
      "/Users/cheng-haotai/Documents/Projects_Data/IMDb_Predictor/prediction_results/formatted_predictions/formatted_1.csv\n",
      "/Users/cheng-haotai/Documents/Projects_Data/IMDb_Predictor/prediction_results/formatted_predictions/formatted_2.csv\n",
      "/Users/cheng-haotai/Documents/Projects_Data/IMDb_Predictor/prediction_results/formatted_predictions/formatted_3.csv\n"
     ]
    }
   ],
   "source": [
    "# Get list of cleaned prediction results\n",
    "formatted_files = []\n",
    "format_name_template = 'formatted_'\n",
    "print 'Name of formatted prediction files:'\n",
    "for idx, name in enumerate(pred_files):\n",
    "    name = format_folder + format_name_template + str(idx + 1) + pred_ext\n",
    "    formatted_files.append(name)\n",
    "    print name"
   ]
  },
  {
   "cell_type": "code",
   "execution_count": 6,
   "metadata": {},
   "outputs": [
    {
     "name": "stdout",
     "output_type": "stream",
     "text": [
      "Formatted prediction file for model 1 already exists\n",
      "Formatted prediction file for model 2 already exists\n",
      "Formatted prediction file for model 3 already exists\n"
     ]
    }
   ],
   "source": [
    "# Clean up prediction files (2nd column values have list of lists brackets)\n",
    "for idx, name in enumerate(pred_files):\n",
    "    new_data = []\n",
    "    with open(name, 'r') as csvread:\n",
    "        csv_read = csv.reader(csvread)\n",
    "        for row in csv_read:\n",
    "            row[2] = row[2].replace('[', '')\n",
    "            row[2] = row[2].replace(']', '')\n",
    "            new_data.append(row)\n",
    "    if not os.path.exists(formatted_files[idx]):\n",
    "        print 'Generating formatted prediction file for model', (idx + 1)\n",
    "        with open(formatted_files[idx], 'w') as csvwrite:\n",
    "            csv_write = csv.writer(csvwrite)\n",
    "            csv_write.writerows(new_data)\n",
    "    else:\n",
    "        print 'Formatted prediction file for model %s already exists' % (idx + 1)"
   ]
  },
  {
   "cell_type": "markdown",
   "metadata": {},
   "source": [
    "## Importing into Pandas\n",
    "The CSV files containing movie predictions of the test set (using 3 separate training sets to train the regression model). Now, I will be constructing pandas dataframes of the three test results."
   ]
  },
  {
   "cell_type": "code",
   "execution_count": 7,
   "metadata": {},
   "outputs": [],
   "source": [
    "# Open test indexes to retrieve movie metadata for relevant movies\n",
    "test_idx = prediction_path + 'test_index.pickle'\n",
    "with open(test_idx, 'rb') as pickle_open:\n",
    "    test_info = pkl.load(pickle_open)"
   ]
  },
  {
   "cell_type": "code",
   "execution_count": 8,
   "metadata": {},
   "outputs": [],
   "source": [
    "# Load metadata for the movies in the test set\n",
    "metadata_path = parent_path + 'movie_metadata.csv'\n",
    "movie_df = pd.read_csv(metadata_path)\n",
    "movie_df.dropna(how='any', inplace=True)"
   ]
  },
  {
   "cell_type": "code",
   "execution_count": 9,
   "metadata": {},
   "outputs": [],
   "source": [
    "meta_df = movie_df.iloc[test_info]\n",
    "meta_df.reset_index(inplace=True)"
   ]
  },
  {
   "cell_type": "code",
   "execution_count": 10,
   "metadata": {},
   "outputs": [
    {
     "name": "stdout",
     "output_type": "stream",
     "text": [
      "Shape of metadata dataframe for movies in the test data dataset: (564, 29)\n"
     ]
    }
   ],
   "source": [
    "# Info about metadata dataframe\n",
    "print 'Shape of metadata dataframe for movies in the test data dataset:', meta_df.shape"
   ]
  },
  {
   "cell_type": "code",
   "execution_count": 11,
   "metadata": {},
   "outputs": [],
   "source": [
    "# For each prediction file, load the data into a pandas dataframe\n",
    "pred_df_list = []\n",
    "for name in formatted_files:\n",
    "    pred_df_list.append(pd.read_csv(name, index_col=0))"
   ]
  },
  {
   "cell_type": "code",
   "execution_count": 12,
   "metadata": {},
   "outputs": [],
   "source": [
    "# Create a single composite dataframe that captures the information of all three smaller dataframes\n",
    "master_df = pd.DataFrame()\n",
    "master_df['movie_title'] = meta_df.loc[:]['movie_title']\n",
    "master_df['original_index'] = meta_df.loc[:]['index']\n",
    "master_df['actual_score'] = meta_df.loc[:]['imdb_score']"
   ]
  },
  {
   "cell_type": "code",
   "execution_count": 13,
   "metadata": {},
   "outputs": [],
   "source": [
    "# Add in predicted scores for each regression model\n",
    "prediction_list = []\n",
    "for idx, df in enumerate(pred_df_list):\n",
    "    colname = 'prediction_%s' % (idx + 1)\n",
    "    prediction_list.append(colname)\n",
    "    master_df[colname] = df['Predicted_Score']"
   ]
  },
  {
   "cell_type": "code",
   "execution_count": 14,
   "metadata": {},
   "outputs": [],
   "source": [
    "# Compute the average of all three predictions\n",
    "master_df['average_score'] = master_df[prediction_list].iloc[:].mean(axis=1)"
   ]
  },
  {
   "cell_type": "code",
   "execution_count": 15,
   "metadata": {},
   "outputs": [],
   "source": [
    "# Compute the absolute errors of averaged scores from actual score\n",
    "master_df['percent_error'] = (master_df.actual_score - master_df.average_score)/master_df.actual_score"
   ]
  },
  {
   "cell_type": "code",
   "execution_count": 16,
   "metadata": {},
   "outputs": [
    {
     "data": {
      "text/html": [
       "<div>\n",
       "<style scoped>\n",
       "    .dataframe tbody tr th:only-of-type {\n",
       "        vertical-align: middle;\n",
       "    }\n",
       "\n",
       "    .dataframe tbody tr th {\n",
       "        vertical-align: top;\n",
       "    }\n",
       "\n",
       "    .dataframe thead th {\n",
       "        text-align: right;\n",
       "    }\n",
       "</style>\n",
       "<table border=\"1\" class=\"dataframe\">\n",
       "  <thead>\n",
       "    <tr style=\"text-align: right;\">\n",
       "      <th></th>\n",
       "      <th>movie_title</th>\n",
       "      <th>original_index</th>\n",
       "      <th>actual_score</th>\n",
       "      <th>prediction_1</th>\n",
       "      <th>prediction_2</th>\n",
       "      <th>prediction_3</th>\n",
       "      <th>average_score</th>\n",
       "      <th>percent_error</th>\n",
       "    </tr>\n",
       "  </thead>\n",
       "  <tbody>\n",
       "    <tr>\n",
       "      <th>0</th>\n",
       "      <td>Year One</td>\n",
       "      <td>771</td>\n",
       "      <td>4.9</td>\n",
       "      <td>6.550407</td>\n",
       "      <td>4.586875</td>\n",
       "      <td>6.037908</td>\n",
       "      <td>5.725064</td>\n",
       "      <td>-0.168380</td>\n",
       "    </tr>\n",
       "    <tr>\n",
       "      <th>1</th>\n",
       "      <td>Ghostbusters</td>\n",
       "      <td>1582</td>\n",
       "      <td>5.5</td>\n",
       "      <td>8.624853</td>\n",
       "      <td>5.118395</td>\n",
       "      <td>7.556687</td>\n",
       "      <td>7.099979</td>\n",
       "      <td>-0.290905</td>\n",
       "    </tr>\n",
       "    <tr>\n",
       "      <th>2</th>\n",
       "      <td>Swimfan</td>\n",
       "      <td>3125</td>\n",
       "      <td>5.0</td>\n",
       "      <td>5.531941</td>\n",
       "      <td>3.973113</td>\n",
       "      <td>5.203809</td>\n",
       "      <td>4.902954</td>\n",
       "      <td>0.019409</td>\n",
       "    </tr>\n",
       "    <tr>\n",
       "      <th>3</th>\n",
       "      <td>Bless the Child</td>\n",
       "      <td>1274</td>\n",
       "      <td>5.1</td>\n",
       "      <td>6.693055</td>\n",
       "      <td>4.867110</td>\n",
       "      <td>6.312940</td>\n",
       "      <td>5.957702</td>\n",
       "      <td>-0.168177</td>\n",
       "    </tr>\n",
       "    <tr>\n",
       "      <th>4</th>\n",
       "      <td>Hackers</td>\n",
       "      <td>1320</td>\n",
       "      <td>6.2</td>\n",
       "      <td>6.812893</td>\n",
       "      <td>5.020144</td>\n",
       "      <td>6.443130</td>\n",
       "      <td>6.092056</td>\n",
       "      <td>0.017410</td>\n",
       "    </tr>\n",
       "  </tbody>\n",
       "</table>\n",
       "</div>"
      ],
      "text/plain": [
       "        movie_title  original_index  actual_score  prediction_1  prediction_2  \\\n",
       "0         Year One              771           4.9      6.550407      4.586875   \n",
       "1     Ghostbusters             1582           5.5      8.624853      5.118395   \n",
       "2          Swimfan             3125           5.0      5.531941      3.973113   \n",
       "3  Bless the Child             1274           5.1      6.693055      4.867110   \n",
       "4          Hackers             1320           6.2      6.812893      5.020144   \n",
       "\n",
       "   prediction_3  average_score  percent_error  \n",
       "0      6.037908       5.725064      -0.168380  \n",
       "1      7.556687       7.099979      -0.290905  \n",
       "2      5.203809       4.902954       0.019409  \n",
       "3      6.312940       5.957702      -0.168177  \n",
       "4      6.443130       6.092056       0.017410  "
      ]
     },
     "execution_count": 16,
     "metadata": {},
     "output_type": "execute_result"
    }
   ],
   "source": [
    "# Display the first couple rows of the dataframe\n",
    "master_df.head(5)"
   ]
  },
  {
   "cell_type": "markdown",
   "metadata": {},
   "source": [
    "## Visualization and Statistical Analysis: Phase 1\n",
    "Now that I have imported the predicted data into a pandas dataframe and also calculated some basic statistical figures, the next step is to visualize the distribution of averaged predicted scores and the actual scores. Further statistical analysis will follow."
   ]
  },
  {
   "cell_type": "code",
   "execution_count": 17,
   "metadata": {},
   "outputs": [],
   "source": [
    "# Function for generating Gaussians given mean and standard deviation\n",
    "def gauss(data, mean, std):\n",
    "    var = np.power(std, 2)\n",
    "    constant_term = 1 / (np.sqrt(2 * np.pi * var))\n",
    "    exp_term = -(np.power((data - mean), 2) / (2 * var))\n",
    "    return constant_term * np.exp(exp_term)"
   ]
  },
  {
   "cell_type": "code",
   "execution_count": 18,
   "metadata": {},
   "outputs": [
    {
     "data": {
      "text/plain": [
       "<matplotlib.figure.Figure at 0x10f1e3d10>"
      ]
     },
     "metadata": {},
     "output_type": "display_data"
    },
    {
     "data": {
      "image/png": "[encoded data removed]",
      "text/plain": [
       "<matplotlib.figure.Figure at 0x10f1e3cd0>"
      ]
     },
     "metadata": {},
     "output_type": "display_data"
    }
   ],
   "source": [
    "# Visualize the distribution of actual scores and averaged predicted scores using histograms\n",
    "plot_cols = ['actual_score', 'average_score']\n",
    "plt.clf();\n",
    "plt.figure(figsize = (13, 7));\n",
    "hist_bins = np.arange(0,15, step = 0.25)\n",
    "\n",
    "plt.hist(master_df[plot_cols[0]], bins = hist_bins, alpha = 0.5, label=plot_cols[0])\n",
    "plt.hist(master_df[plot_cols[1]], bins = hist_bins, alpha = 0.5, label=plot_cols[1])\n",
    "plt.xlabel('IMDb Scores');\n",
    "plt.ylabel('Frequency');\n",
    "plt.legend(loc='upper right');\n",
    "plt.title('Histogram of Averaged Predicted and Actual Scores');\n",
    "plt.show()"
   ]
  },
  {
   "cell_type": "markdown",
   "metadata": {},
   "source": [
    "From a visual inspection of the two distributions, it seems that the averaged predicted IMDb scores have been shifted to the left from the actual scores. This can be confirmed by looking at the means and standard deviations of the two distributions."
   ]
  },
  {
   "cell_type": "code",
   "execution_count": 19,
   "metadata": {},
   "outputs": [
    {
     "name": "stdout",
     "output_type": "stream",
     "text": [
      "The mean of the actual IMDb scores is: 6.472695035460993\n",
      "The standard deviation of the actual IMDb scores is: 1.0580\n",
      "\n",
      "The mean of the actual IMDb scores is: 6.19816258749409\n",
      "The standard deviation of the actual IMDb scores is: 1.1391\n"
     ]
    }
   ],
   "source": [
    "# Find the averages and standard deviations of the two distributions\n",
    "actual_mean = master_df.actual_score.mean(axis=0)\n",
    "actual_std = master_df.actual_score.std(axis=0)\n",
    "print 'The mean of the actual IMDb scores is:', actual_mean\n",
    "print 'The standard deviation of the actual IMDb scores is: %.4f\\n' % actual_std\n",
    "\n",
    "predict_mean = master_df.average_score.mean(axis=0)\n",
    "predict_std = master_df.average_score.std(axis=0)\n",
    "print 'The mean of the actual IMDb scores is:', predict_mean\n",
    "print 'The standard deviation of the actual IMDb scores is: %.4f' % predict_std"
   ]
  },
  {
   "cell_type": "markdown",
   "metadata": {},
   "source": [
    "### A Short Commentary 1\n",
    "Looking at the overlaid histograms shown above, a couple of interesting observations can be made:\n",
    "* The two distributions appear to be mirrored about each other \n",
    "    * The outliers for the **average_score** distribution lie on the right-hand side of the plot\n",
    "    * The outliers for the **actual_score** distribution lie on the left-hand side of the plot\n",
    "* There is a sizable overlap between the two distributions \n",
    "\n",
    "In many applications of statistics, outliers may be discarded from a distribution for the purpose of removing samples that deviate from the behavior of the \"model\" at hand. However, the outliers shown in the histogram above cannot be discarded for this reason because they are artifacts of either the raw data or the behavior of the neural network itself. As such, it makes no sense to discard outliers in this context.\n",
    "\n",
    "However, it may be useful to conduct some hypothesis testing to see how close these distributions are to each other. Of course, a major assumption that needs to be made is that these two distributions are closely approximated by Gaussian distributions. To this end, the two hypothesis are:\n",
    "* Null hypothesis: These two distributions are essentially the same (they have the same ***mean***)\n",
    "* Alternate hypothesis: These two distributions are different to a statistically significant degree\n",
    "\n",
    "For this analysis, we will assume a significance level of 0.05."
   ]
  },
  {
   "cell_type": "code",
   "execution_count": 20,
   "metadata": {},
   "outputs": [],
   "source": [
    "# Assuming these distributions have the same mean, the two subtracted distributions have:\n",
    "# Mean = 0\n",
    "# Standard deviation:\n",
    "composite_std_raw = np.sqrt(np.power(actual_std, 2) + np.power(predict_std, 2))\n",
    "# Z-score:\n",
    "composite_z_raw = (predict_mean - actual_mean) / composite_std_raw"
   ]
  },
  {
   "cell_type": "code",
   "execution_count": 21,
   "metadata": {},
   "outputs": [
    {
     "name": "stdout",
     "output_type": "stream",
     "text": [
      "The p-value corresponding to the null hypothesis is 0.4299\n"
     ]
    }
   ],
   "source": [
    "# Find the p-value \n",
    "import scipy.stats as st\n",
    "p_val = st.norm.cdf(composite_z_raw)\n",
    "print 'The p-value corresponding to the null hypothesis is %.4f' % p_val"
   ]
  },
  {
   "cell_type": "code",
   "execution_count": 22,
   "metadata": {},
   "outputs": [
    {
     "data": {
      "text/plain": [
       "<matplotlib.figure.Figure at 0x110e63350>"
      ]
     },
     "metadata": {},
     "output_type": "display_data"
    },
    {
     "data": {
      "image/png": "[encoded data removed]",
      "text/plain": [
       "<matplotlib.figure.Figure at 0x110e63310>"
      ]
     },
     "metadata": {},
     "output_type": "display_data"
    }
   ],
   "source": [
    "# Using the mean and standard deviations,, we can proceed to plot the normal distributions of the data\n",
    "x = np.linspace(0, 15, 1000)\n",
    "plt.clf();\n",
    "plt.figure(figsize = (13, 7));\n",
    "plt.plot(x, gauss(x, actual_mean, actual_std), label='actual_score')\n",
    "plt.plot(x, gauss(x, predict_mean, predict_std), label='average_score')\n",
    "plt.legend(loc='upper right');\n",
    "plt.xlabel('IMDb Scores');\n",
    "plt.title('Gaussian Distributions of Predicted and Actual Scores');"
   ]
  },
  {
   "cell_type": "markdown",
   "metadata": {},
   "source": [
    "Since this p-value does not fall below the significance threshold of 0.05, it appears that accepting the null hypothesis is statistically grounded. Indeed, looking at the Gaussian plots of the two distributions above, it does appear that **they are are strikingly close**. What this means is that the statistical difference between two distributions could have occurred by chance. Removing outliers would bring these two distributions even closer together which is yet another reason why it wouldn't make any sense to do so. "
   ]
  },
  {
   "cell_type": "markdown",
   "metadata": {},
   "source": [
    "## Visualization and Statistical Analysis: Phase 2\n",
    "Now that we've seen that there is a close resemblance between the two distributions, let's assess the accuracy of the averaged model and assess how it deviates from the actual IMDb scores. We've already calculated the percent change of the predicted scores to the actual scores. "
   ]
  },
  {
   "cell_type": "markdown",
   "metadata": {},
   "source": [
    "Let's visualize the distributions of percent change first."
   ]
  },
  {
   "cell_type": "code",
   "execution_count": 23,
   "metadata": {},
   "outputs": [
    {
     "data": {
      "text/plain": [
       "<matplotlib.figure.Figure at 0x110efa810>"
      ]
     },
     "metadata": {},
     "output_type": "display_data"
    },
    {
     "data": {
      "image/png": "[encoded data removed]",
      "text/plain": [
       "<matplotlib.figure.Figure at 0x110efa950>"
      ]
     },
     "metadata": {},
     "output_type": "display_data"
    }
   ],
   "source": [
    "# Visualize the distribution of percent changes\n",
    "plt.clf();\n",
    "plt.figure(figsize = (13, 7));\n",
    "master_df.percent_error.hist(alpha=0.5, bins=50, grid=False)\n",
    "plt.xticks(np.arange(-1.8, 0.7, step = 0.2));\n",
    "plt.title('Distribution of Percent Errors from Actual Score');\n",
    "plt.xlabel('Percent Error from Actual Score');\n",
    "plt.ylabel('Frequency');\n",
    "plt.show()"
   ]
  },
  {
   "cell_type": "markdown",
   "metadata": {},
   "source": [
    "Looking at the distribution of percent error values, we see that there are clear outliers in this plot. To assess the root cause behind the shortcomings of my neural network, let's zone in on outliers. Here, we will look at all percent error values that exceed 1 standard deviation. "
   ]
  },
  {
   "cell_type": "code",
   "execution_count": 24,
   "metadata": {},
   "outputs": [
    {
     "name": "stdout",
     "output_type": "stream",
     "text": [
      "Mean of percent error distribution is 0.0212\n",
      "Standard deviation (68.27% confidence) of percent error distribution is 0.2199\n",
      "2x standard deviation (95.45% confidence) is 0.439827\n",
      "\n"
     ]
    }
   ],
   "source": [
    "# Find average and standard deviation for percent error distribution \n",
    "pe_mean = master_df.percent_error.mean(axis=0)\n",
    "pe_std = master_df.percent_error.std(axis=0)\n",
    "print 'Mean of percent error distribution is %.4f' % pe_mean\n",
    "print 'Standard deviation (68.27%% confidence) of percent error distribution is %.4f' % pe_std\n",
    "print '2x standard deviation (95.45%% confidence) is %4f\\n' % (pe_std * 2)"
   ]
  },
  {
   "cell_type": "markdown",
   "metadata": {},
   "source": [
    "### A Short Commentary 2\n",
    "Now that we know the mean and standard deviation of the percent error distribution, we can begin to develop an idea of how \"robust\" my multilayer perceptron is in terms of confidence level. We can expect:\n",
    "* An average prediction performance of 2.12%\n",
    "* 68.27% of the time, we can expect to get between 24.1% to -19.9% prediction accuracy\n",
    "* 95.45% of the time, we can expect to get between 46.1% to -41.9% prediction accuracy\n",
    "\n",
    "At this moment, it cannot be said that we get stellar results from this model. Even though the average performance is impressive (predictions accurate to around 2%), we have a wide spread in predictions. Essentially, we can only comfortably rely on this model (with 95% confidence) to give us a prediction accurate to roughly 40% of the actual IMDb score.\n",
    "\n",
    "Let's proceed to take a look at the factors influencing this behavior. We can look at characteristics of the movies that predicted unfavorably. "
   ]
  },
  {
   "cell_type": "code",
   "execution_count": 25,
   "metadata": {},
   "outputs": [],
   "source": [
    "# Find the rows of the master dataframe that have a percent error beyond 1 standard deviation\n",
    "pe_high_std = pe_mean + pe_std\n",
    "pe_low_std = pe_mean - pe_std\n",
    "dev_high = master_df[(master_df['percent_error'] > pe_high_std)]\n",
    "dev_low = master_df[(master_df['percent_error'] < pe_low_std)]\n",
    "dev_list = [dev_high, dev_low]\n",
    "dev_composite = pd.concat(dev_list)"
   ]
  },
  {
   "cell_type": "code",
   "execution_count": 26,
   "metadata": {},
   "outputs": [
    {
     "data": {
      "text/plain": [
       "<matplotlib.figure.Figure at 0x110e578d0>"
      ]
     },
     "metadata": {},
     "output_type": "display_data"
    },
    {
     "data": {
      "image/png": "[encoded data removed]",
      "text/plain": [
       "<matplotlib.figure.Figure at 0x110e57890>"
      ]
     },
     "metadata": {},
     "output_type": "display_data"
    }
   ],
   "source": [
    "# Visualize the scores for the movies that had prediction errors beyond 1 standard deviation\n",
    "plt.clf();\n",
    "plt.figure(figsize=(13, 7));\n",
    "dev_composite.actual_score.hist(alpha=0.5, bins=50, grid=False, label='actual_scores')\n",
    "dev_composite.average_score.hist(alpha=0.5, bins=50, grid=False, label='average_scores')\n",
    "plt.xticks(np.arange(1, 14, step=1));\n",
    "plt.legend(loc='upper right');\n",
    "plt.xlabel('IMDb Scores');\n",
    "plt.ylabel('Frequency');\n",
    "plt.title('Distribution of Actual to Predicted Scores for +/- 1 Standard Deviation Samples');"
   ]
  },
  {
   "cell_type": "markdown",
   "metadata": {},
   "source": [
    "### A Shocking Insight!\n",
    "A single glance at these overlaid scores (taken from a subset of the overall test data predictions) reveals a shocking similarity to the distributions of the overall test data predictions themselves. Once again, the **average_scores** distribution finds itself with a peak biased to the left-hand side of the **actual_scores** distribution. This time, however, it becomes much clearer that **there exists a separation between the behavior of the model's predictions and the raw data itself**. \n",
    "\n",
    "***This separation in behavior is a left-tending bias that is revealed with greater clarify after focusing on samples that deviate by more than 1 standard deviation.***\n",
    "\n",
    "Such a behavior speaks to an underlying cause within the neural network itself. The multilayer perceptron has *\"learned\"* to bias results in this specific way. To assess the validity of this conjecture, we need to backtrack a bit and examine the characteristic of the training data used to train the neural network model weights."
   ]
  },
  {
   "cell_type": "markdown",
   "metadata": {},
   "source": [
    "## Getting at the Root Cause\n",
    "In the following section, I will proceed to load the training data indexes that defined the three separate training sets used to create the three IMDb regression models that were averaged together. Visualizing the characteristics of the training data may yield insights into the observed behavior of my neural network."
   ]
  },
  {
   "cell_type": "code",
   "execution_count": 27,
   "metadata": {},
   "outputs": [],
   "source": [
    "# Assemble the file names for training data indexes\n",
    "train1_file = prediction_path + 'train1_index.pickle'\n",
    "train2_file = prediction_path + 'train2_index.pickle'\n",
    "train3_file = prediction_path + 'train3_index.pickle'\n",
    "train_list = [train1_file, train2_file, train3_file]"
   ]
  },
  {
   "cell_type": "code",
   "execution_count": 28,
   "metadata": {},
   "outputs": [],
   "source": [
    "# Load the indexdes for the training data set\n",
    "train_idx = []\n",
    "for train_file in train_list:\n",
    "    with open(train_file, 'rb') as train_open:\n",
    "        train_idx.append(pkl.load(train_open))"
   ]
  },
  {
   "cell_type": "code",
   "execution_count": 29,
   "metadata": {},
   "outputs": [],
   "source": [
    "# Import training data into pandas\n",
    "train_df = pd.DataFrame()\n",
    "train_score_names = []\n",
    "for idx, train_set in enumerate(train_idx):\n",
    "    actual_score_name = 'actual_score_%s' % (idx + 1)\n",
    "    train_score_names.append(actual_score_name)\n",
    "    original_idx = 'original_index_%s' % (idx + 1)\n",
    "    temp_train_df = movie_df.iloc[train_set]\n",
    "    temp_train_df.reset_index(inplace=True)\n",
    "    train_df[original_idx] = temp_train_df['index']\n",
    "    train_df[actual_score_name] = temp_train_df.imdb_score"
   ]
  },
  {
   "cell_type": "code",
   "execution_count": 30,
   "metadata": {},
   "outputs": [
    {
     "data": {
      "text/plain": [
       "<matplotlib.figure.Figure at 0x110f04790>"
      ]
     },
     "metadata": {},
     "output_type": "display_data"
    },
    {
     "data": {
      "image/png": "[encoded data removed]",
      "text/plain": [
       "<matplotlib.figure.Figure at 0x1113bea50>"
      ]
     },
     "metadata": {},
     "output_type": "display_data"
    }
   ],
   "source": [
    "# Visualize the distributions of IMDb scores for the 3 training sets\n",
    "plt.clf();\n",
    "trans_val = 0.2\n",
    "tbin_num = 30\n",
    "plt.figure(figsize=(13, 7));\n",
    "train_df.actual_score_1.hist(alpha=trans_val, bins=tbin_num, grid=False, label='train1')\n",
    "train_df.actual_score_2.hist(alpha=trans_val, bins=tbin_num, grid=False, label='train2')\n",
    "train_df.actual_score_3.hist(alpha=trans_val, bins=tbin_num, grid=False, label='train3')\n",
    "meta_df.imdb_score.hist(alpha=trans_val, bins=tbin_num, grid=False, label='test')\n",
    "plt.legend(loc='upper left');\n",
    "plt.xlabel('IMDb Scores');\n",
    "plt.ylabel('Frequency');\n",
    "plt.xticks(np.arange(0, 12, step=1));\n",
    "plt.title('Comparison of Training Data Score Distributions to Test Data');"
   ]
  },
  {
   "cell_type": "markdown",
   "metadata": {},
   "source": [
    "### A Short Commentary 3\n",
    "From the plot above, it can be seen that there might exist a discrepancy between the distribution characteristics of the training sets and the testing set. We already know the mean IMDb score and standard deviations of the testing set distribution. Let's take a look at the mean scores and standard deviations for the training set distribution."
   ]
  },
  {
   "cell_type": "code",
   "execution_count": 31,
   "metadata": {},
   "outputs": [
    {
     "name": "stdout",
     "output_type": "stream",
     "text": [
      "Average mean score for training sets is 6.4586\n",
      "Average standard deviation for training sets is 1.0636\n"
     ]
    }
   ],
   "source": [
    "training_means = []\n",
    "training_std = []\n",
    "for name in train_score_names:\n",
    "    training_means.append(train_df[name].mean(axis=0))\n",
    "    training_std.append(train_df[name].std(axis=0))\n",
    "avg_train_mean = np.average(training_means)\n",
    "avg_train_std = np.average(training_std)\n",
    "print 'Average mean score for training sets is %.4f' % avg_train_mean\n",
    "print 'Average standard deviation for training sets is %.4f' % avg_train_std"
   ]
  },
  {
   "cell_type": "markdown",
   "metadata": {},
   "source": [
    "To get a better idea of the differences between the training sets' distributions and the the test set distribution, let's plot some Gaussians visually assess the similarities and differences between the test and training sets:"
   ]
  },
  {
   "cell_type": "code",
   "execution_count": 32,
   "metadata": {},
   "outputs": [
    {
     "data": {
      "text/plain": [
       "<matplotlib.figure.Figure at 0x1114951d0>"
      ]
     },
     "metadata": {},
     "output_type": "display_data"
    },
    {
     "data": {
      "image/png": "[encoded data removed]",
      "text/plain": [
       "<matplotlib.figure.Figure at 0x111495290>"
      ]
     },
     "metadata": {},
     "output_type": "display_data"
    }
   ],
   "source": [
    "# Plot Gaussians to compare training and test sets\n",
    "x = np.linspace(0, 15, 1000)\n",
    "plt.clf();\n",
    "plt.figure(figsize = (13, 7));\n",
    "plt.plot(x, gauss(x, actual_mean, actual_std), label='test_data')\n",
    "plt.plot(x, gauss(x, avg_train_mean, avg_train_std), label='train_data')\n",
    "plt.legend(loc='upper right');\n",
    "plt.xlabel('IMDb Scores');\n",
    "plt.title('Gaussian Distributions of Training and Test Data');"
   ]
  },
  {
   "cell_type": "markdown",
   "metadata": {},
   "source": [
    "From the plot of these two Gaussian representations of the training and test set distributions, we can visually confirm that they are essentially the same distributions. This clarifies the slightly muddled visualization of the overlaid four-distribution histogram above. This result comes as a relief since it means that the sampling used to generate the three training sets and the one testing set was consistent. ***This visualization rules out sampling mistakes as the cause of the observed bias in the neural network***."
   ]
  },
  {
   "cell_type": "markdown",
   "metadata": {},
   "source": [
    "## One Final Crack at the Mystery & Concluding Remarks\n",
    "If a sampling error wasn't the culprit, this opens the door to the possibility that a systemic issue might exist. This means that an underlying mechanism within the deep neural network is applying a bias. To assess this, I will proceed to visualize the results of the three IMDb regression models to evaluate whether or not they are consistent with each other. A consistent behavior amongst the three models will support the presence of a systemic issue.\n",
    "\n",
    "In this final section, I will look at the behaviors of each individual IMDb regression model compared against the raw test data score distribution. "
   ]
  },
  {
   "cell_type": "code",
   "execution_count": 33,
   "metadata": {},
   "outputs": [
    {
     "data": {
      "text/plain": [
       "<matplotlib.figure.Figure at 0x1116a6b50>"
      ]
     },
     "metadata": {},
     "output_type": "display_data"
    },
    {
     "data": {
      "image/png": "[encoded data removed]",
      "text/plain": [
       "<matplotlib.figure.Figure at 0x1116a6950>"
      ]
     },
     "metadata": {},
     "output_type": "display_data"
    }
   ],
   "source": [
    "# Plot the individual IMDb regression model results and along with the actual scores\n",
    "imdb_bins = 50\n",
    "plt.clf();\n",
    "plt.figure(figsize=(13, 7));\n",
    "master_df.prediction_1.hist(alpha=trans_val, bins=imdb_bins, grid=False, label='prediction_1')\n",
    "master_df.prediction_2.hist(alpha=trans_val, bins=imdb_bins, grid=False, label='prediction_2')\n",
    "master_df.prediction_3.hist(alpha=trans_val, bins=imdb_bins, grid=False, label='prediction_3')\n",
    "master_df.actual_score.hist(alpha=0.5, bins=imdb_bins, grid=False, label='actual_score')\n",
    "plt.legend(loc='upper right');\n",
    "plt.xlabel('IMDb Scores');\n",
    "plt.ylabel('Frequency');\n",
    "plt.title('Separating IMDb Regression Model Predictions');"
   ]
  },
  {
   "cell_type": "markdown",
   "metadata": {},
   "source": [
    "From the overlaid histogram plots shown above, a significant clue behind the mystery of the neural network's behavior is revealed. It can be seen that the weights generated for the second training set deviates quite signifiantly from the other three distributions. Since **prediction_1** and **prediction_3** appear to be well-centered around the **actual_score** distribution, we see that there isn't a consistent behavior in the neural network that is responsible for the overall bias in the prediction scores. \n",
    "\n",
    "Therefore, if we were to train the neural network again, we can expect that a different result than the one observed for this training set will be produced. If we were to deploy the results of this neural network, choosing the weight files from *training set 1* and *training set 3* appear to make the most sense as they are the ones most closely centered about the *actual score*. "
   ]
  },
  {
   "cell_type": "markdown",
   "metadata": {},
   "source": [
    "## A Final Word\n",
    "The performance of this neural network can definitely be improved-upon. A few ideas off the top of my head are:\n",
    "* Deepening the multilayer perceptron that I used \n",
    "* Including more fields for the neural network to process\n",
    "* Running the neural network for more epochs \n",
    "    * Current epoch count is 3 for every training stage \n",
    "* Upsampling data that is under-represented (i.e. movies at the low and high-end of the IMDb score spectrum)\n",
    "* Using more training sets (I only had 3 in this case)\n",
    "\n",
    "Well, we've come to the end of this IMDb project and analysis! Thank you very much for reading through my first independent software engineering / data science project ever! I'll endeavor to push more out in the coming months / years!\n",
    "\n",
    "***Completion Date: March 31, 2018***"
   ]
  },
  {
   "cell_type": "code",
   "execution_count": null,
   "metadata": {},
   "outputs": [],
   "source": []
  }
 ],
 "metadata": {
  "kernelspec": {
   "display_name": "Python 2",
   "language": "python",
   "name": "python2"
  },
  "language_info": {
   "codemirror_mode": {
    "name": "ipython",
    "version": 2
   },
   "file_extension": ".py",
   "mimetype": "text/x-python",
   "name": "python",
   "nbconvert_exporter": "python",
   "pygments_lexer": "ipython2",
   "version": "2.7.14"
  }
 },
 "nbformat": 4,
 "nbformat_minor": 2
}
